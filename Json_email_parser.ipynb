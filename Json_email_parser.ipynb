{
 "cells": [
  {
   "cell_type": "code",
   "execution_count": 16,
   "metadata": {},
   "outputs": [],
   "source": [
    "import email\n",
    "import json\n",
    "import re\n",
    "from email.iterators import typed_subpart_iterator"
   ]
  },
  {
   "cell_type": "code",
   "execution_count": 17,
   "metadata": {},
   "outputs": [],
   "source": [
    "# parsed_json.keys()\n",
    "# # dict_keys(['sender', 'receiver', 'receivedDate', 'subject', 'attachments', 'body', 'raw'])"
   ]
  },
  {
   "cell_type": "code",
   "execution_count": 18,
   "metadata": {},
   "outputs": [],
   "source": [
    "# type(email_message)\n",
    "# #email.message.Message"
   ]
  },
  {
   "cell_type": "code",
   "execution_count": 19,
   "metadata": {},
   "outputs": [],
   "source": [
    "# email_message.keys()\n",
    "# # ['Delivered-To',\n",
    "# #  'Received',\n",
    "# #  'X-Received',\n",
    "# #  'ARC-Seal',\n",
    "# #  'ARC-Message-Signature',\n",
    "# #  'ARC-Authentication-Results',\n",
    "# #  'Return-Path',\n",
    "# #  'Received',\n",
    "# #  'Received-SPF',\n",
    "# #  'Authentication-Results',\n",
    "# #  'DKIM-Signature',\n",
    "# #  'X-Google-DKIM-Signature',\n",
    "# #  'X-Gm-Message-State',\n",
    "# #  'X-Google-Smtp-Source',\n",
    "# #  'X-Received',\n",
    "# #  'MIME-Version',\n",
    "# #  'From',\n",
    "# #  'Date',\n",
    "# #  'Message-ID',\n",
    "# #  'Subject',\n",
    "# #  'To',\n",
    "# #  'Cc',\n",
    "# #  'Content-Type']"
   ]
  },
  {
   "cell_type": "code",
   "execution_count": 20,
   "metadata": {},
   "outputs": [],
   "source": [
    "def get_charset(message, default=\"ascii\"):\n",
    "    \"\"\"Get the message charset\"\"\"\n",
    "\n",
    "    if message.get_content_charset():\n",
    "        return message.get_content_charset()\n",
    "\n",
    "    if message.get_charset():\n",
    "        return message.get_charset()\n",
    "\n",
    "    return default"
   ]
  },
  {
   "cell_type": "code",
   "execution_count": 21,
   "metadata": {},
   "outputs": [],
   "source": [
    "def find_body(message):\n",
    "    \"\"\"Get the body of the email message\"\"\"\n",
    "\n",
    "    if message.is_multipart():\n",
    "        #get the plain text version only\n",
    "        text_parts = [part for part in typed_subpart_iterator(message,'text','plain')]\n",
    "        body = []\n",
    "        for part in text_parts:\n",
    "            charset = get_charset(part, get_charset(message))\n",
    "            body.append(str(part.get_payload(decode=True),charset,\"replace\"))\n",
    "            \n",
    "#     else: # if it is not multipart, the payload will be a string\n",
    "#           # representing the message body\n",
    "#         body = unicode(message.get_payload(decode=True),get_charset(message),\"replace\")\n",
    "#         return body.splitlines()\n",
    "\n",
    "        body=u''.join(body).splitlines()\n",
    "        \n",
    "        bodyy=[]\n",
    "        for i in body:\n",
    "            if i is not '':\n",
    "                bodyy.append(i)\n",
    "        return bodyy"
   ]
  },
  {
   "cell_type": "code",
   "execution_count": 22,
   "metadata": {},
   "outputs": [],
   "source": [
    "def find_recev(message):\n",
    "    if message['Delivered-To'] == None:\n",
    "        return 'error'\n",
    "    return message['awawf']"
   ]
  },
  {
   "cell_type": "code",
   "execution_count": 23,
   "metadata": {},
   "outputs": [],
   "source": [
    "def find_from(message):\n",
    "    if message['From'] == None:\n",
    "        return 'error'\n",
    "    return message['From']"
   ]
  },
  {
   "cell_type": "code",
   "execution_count": 24,
   "metadata": {},
   "outputs": [],
   "source": [
    "def find_cc(message):\n",
    "    if message['Cc'] == None:\n",
    "        return 'error'\n",
    "    return message['Cc']"
   ]
  },
  {
   "cell_type": "code",
   "execution_count": 25,
   "metadata": {},
   "outputs": [],
   "source": [
    "def find_day_date_time_zone(message):\n",
    "    if message['Date'] == None:\n",
    "        return 'error'\n",
    "    return message['Date']"
   ]
  },
  {
   "cell_type": "code",
   "execution_count": 26,
   "metadata": {},
   "outputs": [],
   "source": [
    "def find_subject(message):\n",
    "    if message['Subject'] == None:\n",
    "        return 'error'\n",
    "    return message['Subject']"
   ]
  },
  {
   "cell_type": "code",
   "execution_count": 27,
   "metadata": {},
   "outputs": [],
   "source": [
    "def find_boundart(message):\n",
    "    email_message.set_boundary(\"Blue_Boundary\")\n",
    "    return(email_message.get_boundary())"
   ]
  },
  {
   "cell_type": "code",
   "execution_count": null,
   "metadata": {},
   "outputs": [],
   "source": []
  },
  {
   "cell_type": "code",
   "execution_count": 28,
   "metadata": {},
   "outputs": [],
   "source": [
    "def retjson(a):\n",
    "    return(json.dumps(a, indent=4))"
   ]
  },
  {
   "cell_type": "code",
   "execution_count": 29,
   "metadata": {},
   "outputs": [],
   "source": [
    "if __name__ == \"__main__\":\n",
    "    file1 = open(\"3.txt\",\"r+\")\n",
    "    message = file1.read()\n",
    "    parsed_json = (json.loads(message))\n",
    "    # parsed_json.keys()\n",
    "    # # dict_keys(['sender', 'receiver', 'receivedDate', 'subject', 'attachments', 'body', 'raw'])\n",
    "    \n",
    "    raw_email=parsed_json['raw']\n",
    "    email_message=email.message_from_string(raw_email)\n",
    "    \n",
    "    fromm=find_from(email_message)\n",
    "    to=find_recev(email_message)\n",
    "    cc=find_cc(email_message)\n",
    "    date=find_day_date_time_zone(email_message)\n",
    "    sub=find_subject(email_message)\n",
    "    body=find_body(email_message)\n",
    "    \n",
    "    dictt={'From':fromm,'To':to,'Cc':cc,'Date':date,'Subject':sub,'Body':body}\n",
    "    ans=retjson(dictt)\n",
    "    \n",
    "   "
   ]
  },
  {
   "cell_type": "code",
   "execution_count": 30,
   "metadata": {},
   "outputs": [
    {
     "data": {
      "text/plain": [
       "{'From': 'Anshaj Anshaj <anshaj@mollatech.com>',\n",
       " 'To': None,\n",
       " 'Cc': 'error',\n",
       " 'Date': 'Tue, 14 Jan 2020 10:03:06 +0530',\n",
       " 'Subject': 'Just for Checking',\n",
       " 'Body': ['Hi,',\n",
       "  'This is Anshaj Upadhyay here',\n",
       "  'I am just writing this email for checking the process for email parser',\n",
       "  'My phone No is 9309942514',\n",
       "  'email anshajupadhyay1999@gmail.com']}"
      ]
     },
     "execution_count": 30,
     "metadata": {},
     "output_type": "execute_result"
    }
   ],
   "source": [
    "dictt"
   ]
  },
  {
   "cell_type": "code",
   "execution_count": null,
   "metadata": {},
   "outputs": [],
   "source": []
  },
  {
   "cell_type": "code",
   "execution_count": null,
   "metadata": {},
   "outputs": [],
   "source": []
  },
  {
   "cell_type": "code",
   "execution_count": null,
   "metadata": {},
   "outputs": [],
   "source": []
  },
  {
   "cell_type": "code",
   "execution_count": null,
   "metadata": {},
   "outputs": [],
   "source": []
  },
  {
   "cell_type": "code",
   "execution_count": null,
   "metadata": {},
   "outputs": [],
   "source": []
  },
  {
   "cell_type": "code",
   "execution_count": null,
   "metadata": {},
   "outputs": [],
   "source": []
  },
  {
   "cell_type": "code",
   "execution_count": null,
   "metadata": {},
   "outputs": [],
   "source": []
  },
  {
   "cell_type": "code",
   "execution_count": null,
   "metadata": {},
   "outputs": [],
   "source": []
  }
 ],
 "metadata": {
  "kernelspec": {
   "display_name": "Python 3",
   "language": "python",
   "name": "python3"
  },
  "language_info": {
   "codemirror_mode": {
    "name": "ipython",
    "version": 3
   },
   "file_extension": ".py",
   "mimetype": "text/x-python",
   "name": "python",
   "nbconvert_exporter": "python",
   "pygments_lexer": "ipython3",
   "version": "3.6.9"
  }
 },
 "nbformat": 4,
 "nbformat_minor": 2
}
