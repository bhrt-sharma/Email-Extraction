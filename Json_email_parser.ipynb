{
 "cells": [
  {
   "cell_type": "code",
   "execution_count": 1,
   "metadata": {},
   "outputs": [],
   "source": [
    "import email\n",
    "import json\n",
    "import re\n",
    "from email.iterators import typed_subpart_iterator"
   ]
  },
  {
   "cell_type": "code",
   "execution_count": 2,
   "metadata": {},
   "outputs": [],
   "source": [
    "# parsed_json.keys()\n",
    "# # dict_keys(['sender', 'receiver', 'receivedDate', 'subject', 'attachments', 'body', 'raw'])"
   ]
  },
  {
   "cell_type": "code",
   "execution_count": 3,
   "metadata": {},
   "outputs": [],
   "source": [
    "# type(email_message)\n",
    "# #email.message.Message"
   ]
  },
  {
   "cell_type": "code",
   "execution_count": 4,
   "metadata": {},
   "outputs": [],
   "source": [
    "# email_message.keys()\n",
    "# # ['Delivered-To',\n",
    "# #  'Received',\n",
    "# #  'X-Received',\n",
    "# #  'ARC-Seal',\n",
    "# #  'ARC-Message-Signature',\n",
    "# #  'ARC-Authentication-Results',\n",
    "# #  'Return-Path',\n",
    "# #  'Received',\n",
    "# #  'Received-SPF',\n",
    "# #  'Authentication-Results',\n",
    "# #  'DKIM-Signature',\n",
    "# #  'X-Google-DKIM-Signature',\n",
    "# #  'X-Gm-Message-State',\n",
    "# #  'X-Google-Smtp-Source',\n",
    "# #  'X-Received',\n",
    "# #  'MIME-Version',\n",
    "# #  'From',\n",
    "# #  'Date',\n",
    "# #  'Message-ID',\n",
    "# #  'Subject',\n",
    "# #  'To',\n",
    "# #  'Cc',\n",
    "# #  'Content-Type']"
   ]
  },
  {
   "cell_type": "code",
   "execution_count": 5,
   "metadata": {},
   "outputs": [],
   "source": [
    "def get_charset(message, default=\"ascii\"):\n",
    "    \"\"\"Get the message charset\"\"\"\n",
    "\n",
    "    if message.get_content_charset():\n",
    "        return message.get_content_charset()\n",
    "\n",
    "    if message.get_charset():\n",
    "        return message.get_charset()\n",
    "\n",
    "    return default"
   ]
  },
  {
   "cell_type": "code",
   "execution_count": 6,
   "metadata": {},
   "outputs": [],
   "source": [
    "def find_body(message):\n",
    "    \"\"\"Get the body of the email message\"\"\"\n",
    "\n",
    "    if message.is_multipart():\n",
    "        #get the plain text version only\n",
    "        text_parts = [part for part in typed_subpart_iterator(message,'text','plain')]\n",
    "        body = []\n",
    "        for part in text_parts:\n",
    "            charset = get_charset(part, get_charset(message))\n",
    "            body.append(str(part.get_payload(decode=True),charset,\"replace\"))\n",
    "            \n",
    "#     else: # if it is not multipart, the payload will be a string\n",
    "#           # representing the message body\n",
    "#         body = unicode(message.get_payload(decode=True),get_charset(message),\"replace\")\n",
    "#         return body.splitlines()\n",
    "\n",
    "        body=u''.join(body).splitlines()\n",
    "        \n",
    "        bodyy=[]\n",
    "        for i in body:\n",
    "            if i is not '':\n",
    "                bodyy.append(i)\n",
    "        return bodyy"
   ]
  },
  {
   "cell_type": "code",
   "execution_count": 21,
   "metadata": {},
   "outputs": [],
   "source": [
    "def find_recev(message):\n",
    "    try:\n",
    "        return message['Delivered-To']\n",
    "    except:\n",
    "        return 'error'"
   ]
  },
  {
   "cell_type": "code",
   "execution_count": 47,
   "metadata": {},
   "outputs": [],
   "source": [
    "def find_from(message):\n",
    "    try:\n",
    "#       return message['From']\n",
    "        return(re.findall('\\S+@\\S+', message['From'])) \n",
    "    except:\n",
    "        return 'error'"
   ]
  },
  {
   "cell_type": "code",
   "execution_count": 48,
   "metadata": {},
   "outputs": [],
   "source": [
    "def find_cc(message):\n",
    "    try:\n",
    "#         return message['Cc']\n",
    "        return(re.findall('\\S+@\\S+', message['Cc']))\n",
    "    except:\n",
    "        return 'error'"
   ]
  },
  {
   "cell_type": "code",
   "execution_count": 49,
   "metadata": {},
   "outputs": [],
   "source": [
    "def find_day_date_time_zone(message):\n",
    "    try:\n",
    "        return message['Date']\n",
    "    except:\n",
    "        return 'error'"
   ]
  },
  {
   "cell_type": "code",
   "execution_count": 50,
   "metadata": {},
   "outputs": [],
   "source": [
    "def find_subject(message):\n",
    "    try:\n",
    "        return message['Subject']\n",
    "    except:\n",
    "        return 'error'"
   ]
  },
  {
   "cell_type": "code",
   "execution_count": 51,
   "metadata": {},
   "outputs": [],
   "source": [
    "def find_boundart(message):\n",
    "    try:\n",
    "        email_message.set_boundary(\"Blue_Boundary\")\n",
    "        return(email_message.get_boundary())\n",
    "    except:\n",
    "        return 'error'"
   ]
  },
  {
   "cell_type": "code",
   "execution_count": 52,
   "metadata": {},
   "outputs": [],
   "source": [
    "def find_emails(message):\n",
    "    try:\n",
    "        listToStr = ' '.join(map(str, body)) \n",
    "        return(re.findall('\\S+@\\S+', listToStr))      \n",
    "    except:\n",
    "        return 'error'"
   ]
  },
  {
   "cell_type": "code",
   "execution_count": 53,
   "metadata": {},
   "outputs": [],
   "source": [
    "def retjson(a):\n",
    "    try:\n",
    "        return(json.dumps(a, indent=4))\n",
    "    except:\n",
    "        return 'error'"
   ]
  },
  {
   "cell_type": "code",
   "execution_count": 54,
   "metadata": {},
   "outputs": [],
   "source": [
    "if __name__ == \"__main__\":\n",
    "    file1 = open(\"2.txt\",\"r+\")\n",
    "    message = file1.read()\n",
    "    parsed_json = (json.loads(message))\n",
    "    # parsed_json.keys()\n",
    "    # # dict_keys(['sender', 'receiver', 'receivedDate', 'subject', 'attachments', 'body', 'raw'])\n",
    "    \n",
    "    raw_email=parsed_json['raw']\n",
    "    email_message=email.message_from_string(raw_email)\n",
    "    \n",
    "    fromm=find_from(email_message)\n",
    "    to=find_recev(email_message)\n",
    "    cc=find_cc(email_message)\n",
    "    date=find_day_date_time_zone(email_message)\n",
    "    sub=find_subject(email_message)\n",
    "    body=find_body(email_message)\n",
    "    mail=find_emails(body)\n",
    "    dictt={'From':fromm,'To':to,'Cc':cc,'Date':date,'Subject':sub,'Body':body,'Attachment':parsed_json['attachments'],'List_of_Emails':mail}\n",
    "    ans=retjson(dictt)\n",
    "    \n",
    "   "
   ]
  },
  {
   "cell_type": "code",
   "execution_count": 55,
   "metadata": {},
   "outputs": [
    {
     "data": {
      "text/plain": [
       "{'From': ['<mukunda@mollatech.com>'],\n",
       " 'To': 'bharat@mollatech.com',\n",
       " 'Cc': ['<dshubham@mollatech.com>,', '<shubham@mollatech.com>'],\n",
       " 'Date': 'Tue, 14 Jan 2020 11:23:36 +0530',\n",
       " 'Subject': 'Test Email',\n",
       " 'Body': ['This is just a test email to get the raw email content.',\n",
       "  'Receivers from CC and Bcc please ignore..',\n",
       "  'Thanks and Regards',\n",
       "  '-- ',\n",
       "  '   Mukunda M Mhasalkar',\n",
       "  '    Junior Software Engineer',\n",
       "  'M: +91 844 611 9434, +91 702 043 1504',\n",
       "  'S: 94b9f797bad81439',\n",
       "  'E: mukunda@mollatech.com | www.blue-bricks.com',\n",
       "  'Office No: 308, Amanora chambers, Hadapsar |',\n",
       "  '411028, Pune',\n",
       "  '<https://www.linkedin.com/company/blue-brick-technologies/>',\n",
       "  '*DISCLAIMER*: This e-mail with any attachment (\"Message\") is only for the',\n",
       "  \"intended recipient's use and may contain confidential and/or privileged\",\n",
       "  'information. Anyone other than the intended recipient(s) taking any action',\n",
       "  'in reliance upon, or any review, retransmission, dissemination,',\n",
       "  'distribution, printing and/or copying of this Message or any part thereof',\n",
       "  'is strictly prohibited. If this Message is received in error, delete it',\n",
       "  'immediately and e-mail the sender. Blue Bricks Group of Companies is',\n",
       "  'neither liable for the proper and complete transmission of this Message nor',\n",
       "  'for any delay in its receipt. Necessary precaution should be taken in',\n",
       "  'downloading any Message as it may contain viruses and/or other interfering',\n",
       "  'or damaging elements. Opinions, conclusions, statements and other',\n",
       "  'information in this Message that do not relate to the official business of',\n",
       "  'Blue Bricks Group of Companies shall be understood as neither given nor',\n",
       "  'endorsed by it.',\n",
       "  '--000000000000290297059c'],\n",
       " 'Attachment': 'None',\n",
       " 'List_of_Emails': ['mukunda@mollatech.com']}"
      ]
     },
     "execution_count": 55,
     "metadata": {},
     "output_type": "execute_result"
    }
   ],
   "source": [
    "dictt"
   ]
  },
  {
   "cell_type": "code",
   "execution_count": 43,
   "metadata": {},
   "outputs": [
    {
     "data": {
      "text/plain": [
       "list"
      ]
     },
     "execution_count": 43,
     "metadata": {},
     "output_type": "execute_result"
    }
   ],
   "source": [
    "type(dictt['Cc'])"
   ]
  },
  {
   "cell_type": "code",
   "execution_count": null,
   "metadata": {},
   "outputs": [],
   "source": []
  }
 ],
 "metadata": {
  "kernelspec": {
   "display_name": "Python 3",
   "language": "python",
   "name": "python3"
  },
  "language_info": {
   "codemirror_mode": {
    "name": "ipython",
    "version": 3
   },
   "file_extension": ".py",
   "mimetype": "text/x-python",
   "name": "python",
   "nbconvert_exporter": "python",
   "pygments_lexer": "ipython3",
   "version": "3.6.9"
  }
 },
 "nbformat": 4,
 "nbformat_minor": 2
}
